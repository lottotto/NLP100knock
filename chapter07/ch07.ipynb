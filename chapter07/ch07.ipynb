{
 "cells": [
  {
   "cell_type": "markdown",
   "metadata": {},
   "source": [
    "# 第7章: データベース\n",
    "[artist.json.gz](http://www.cl.ecei.tohoku.ac.jp/nlp100/data/artist.json.gz)はオープンな音楽データベース[MusicBrainz](https://musicbrainz.org/)の中でアーティストに関するものをJSON形式に変換し、gzip形式で圧縮したファイルである。このファイルには１アーティストに関する情報が1行にJSON形式で格納されている。JSON形式は以下の通りである。\n",
    "\n",
    "|フィールド|     型     | 内容|例|\n",
    "|--------|------------|-|-|\n",
    "|   id   |ユニーク識別子|整数|20660|\n",
    "|gid\t|グローバル識別子\t|文字列\t|\"ecf9f3a3-35e9-4c58-acaa-e707fba45060\"|\n",
    "|name\t|アーティスト名\t|文字列\t|\"Oasis\"|\n",
    "|sort_name\t|アーティスト名（辞書順整列用）\t|文字列\t|\"Oasis\"|\n",
    "|area\t|活動場所\t|文字列\t|\"United Kingdom\"|\n",
    "|aliases\t|別名|\t辞書オブジェクトのリスト\t||\n",
    "|aliases[].name|別名\t|文字列\t|\"オアシス\"|\n",
    "|aliases[].sort_name\t|別名（整列用）\t|文字列|\t\"オアシス\"|\n",
    "|begin\t|活動開始日\t|辞書\t|\n",
    "|begin.year|\t活動開始年|\t整数|\t1991|\n",
    "|begin.month\t|活動開始月|\t整数\t|\n",
    "|begin.date\t|活動開始日|\t整数\t|\n",
    "|end|\t活動終了日|\t辞書\t|\n",
    "|end.year|\t活動終了年|\t整数|\t2009|\n",
    "|end.month|\t活動終了月|\t整数|\t8|\n",
    "|end.date|\t活動終了日|\t整数|\t28|\n",
    "|tags|\tタグ|\t辞書オブジェクトのリスト|\t|\n",
    "|tags[].count|\tタグ付けされた回数|\t整数|\t1|\n",
    "|tags[].value|\tタグ内容|\t文字列|\t\"rock\"|\n",
    "|rating|\tレーティング|\t辞書オブジェクト\t|\n",
    "|rating.count|\tレーティングの投票数|\t整数|\t13|\n",
    "|rating.value|\tレーティングの値（平均値）|\t整数|\t86|\n",
    "\n",
    "artist.json.gzのデータをKey_Value_Store(KVS)およびドキュメント志向型データベースに格納・検索することを考える。KVSとしては、LebelDB, Redis, KyotoCabinet等を用いよ。ドキュメント志向型データベースとしては、MongoDBを採用したが、CouchDBやRethinkDB等を用いても良い。\n",
    "\n",
    "### 60. KVSの構築\n",
    "Key-Value-Store(KVS)を用い、アーティスト名(name)から活動場所(area)を検索するためのデータベースを構築せよ。"
   ]
  },
  {
   "cell_type": "code",
   "execution_count": 5,
   "metadata": {},
   "outputs": [],
   "source": [
    "import redis\n",
    "import json\n",
    "file = open('./resource/artist.json','r')\n",
    "artist_jsonList = []\n",
    "for line in file:\n",
    "    artist_json = json.loads(line)\n",
    "    artist_jsonList.append(artist_json)"
   ]
  },
  {
   "cell_type": "code",
   "execution_count": 7,
   "metadata": {},
   "outputs": [],
   "source": [
    "r = redis.Redis(host='localhost', port=6379, db=0)\n",
    "for json in artist_jsonList:\n",
    "    if 'name'in json and 'area' in json:\n",
    "        r.set(json['name'], json['area'])  "
   ]
  },
  {
   "cell_type": "markdown",
   "metadata": {},
   "source": [
    "### 61. KVSの検索\n",
    "60で構築したデータベースを用い、特定の(指定された)アーティストの活動場所を取得せよ。"
   ]
  },
  {
   "cell_type": "code",
   "execution_count": 8,
   "metadata": {},
   "outputs": [
    {
     "data": {
      "text/plain": [
       "'United Kingdom'"
      ]
     },
     "execution_count": 8,
     "metadata": {},
     "output_type": "execute_result"
    }
   ],
   "source": [
    "r.get(\"Oasis\").decode()"
   ]
  },
  {
   "cell_type": "markdown",
   "metadata": {},
   "source": [
    "### 62. KVS内の反復処理\n",
    "60で構築したデータベースを用い、活動場所がJapanとなっているアーティスト数を求めよ。"
   ]
  },
  {
   "cell_type": "code",
   "execution_count": 9,
   "metadata": {},
   "outputs": [
    {
     "data": {
      "text/plain": [
       "22128"
      ]
     },
     "execution_count": 9,
     "metadata": {},
     "output_type": "execute_result"
    }
   ],
   "source": [
    "count = 0\n",
    "for i in r.scan_iter():\n",
    "    if r.get(i) == b\"Japan\":\n",
    "        count += 1\n",
    "count"
   ]
  },
  {
   "cell_type": "markdown",
   "metadata": {},
   "source": [
    "### 63. オブジェクトを値に格納したKVS\n",
    "KVSを用い、アーティスト名(name)からタグと被タグ数(タグづけされた回数)のリストを検索するためのデータベースを構築せよ。さらにここで構築したデータベースを用い、アーティスト名からタグと被タグ数を検索せよ。"
   ]
  },
  {
   "cell_type": "code",
   "execution_count": 11,
   "metadata": {},
   "outputs": [],
   "source": [
    "tag_redis = redis.Redis(host='localhost', port=6379, db=1)\n",
    "for json in artist_jsonList:\n",
    "    if 'tags' in json:\n",
    "        for tag in json['tags']:\n",
    "            tag_redis.hset(json['name'], tag['value'], tag['count'])"
   ]
  },
  {
   "cell_type": "code",
   "execution_count": 18,
   "metadata": {},
   "outputs": [
    {
     "data": {
      "text/plain": [
       "{b'american': b'1', b'death metal': b'1'}"
      ]
     },
     "execution_count": 18,
     "metadata": {},
     "output_type": "execute_result"
    }
   ],
   "source": [
    "tag_redis.hgetall('Infester')"
   ]
  },
  {
   "cell_type": "markdown",
   "metadata": {},
   "source": [
    "### 64.MongoDBの構築\n",
    "アーティスト情報(artist.json.gz)をデータベースに登録せよ。さらに、次のフィールドでインデックスを作成せよ:name,aliases.name, tags.value, rating.value\n",
    "```bash\n",
    "sudo mongod --dbpath ./python/100本ノック/chapter07/resource/Mongo --logpath ./python/100本ノック/chapter07/resource/mongodb.log\n",
    "```"
   ]
  },
  {
   "cell_type": "code",
   "execution_count": 15,
   "metadata": {},
   "outputs": [],
   "source": [
    "from pymongo import MongoClient,ASCENDING,DESCENDING"
   ]
  },
  {
   "cell_type": "code",
   "execution_count": 7,
   "metadata": {
    "scrolled": false
   },
   "outputs": [
    {
     "data": {
      "text/plain": [
       "'rating.value_1'"
      ]
     },
     "execution_count": 7,
     "metadata": {},
     "output_type": "execute_result"
    }
   ],
   "source": [
    "from pymongo import MongoClient,ASCENDING,DESCENDING\n",
    "client = MongoClient('localhost', 27017)\n",
    "db = client.artist\n",
    "collection = db.artist\n",
    "for x in range(0,len(artist_jsonList),10000):\n",
    "    if len(artist_jsonList) - x >10000:\n",
    "        temp = artist_jsonList[x:10000+x]\n",
    "        collection.insert_many(temp)\n",
    "    else:\n",
    "        temp = artist_jsonList[x:len(artist_jsonList)]\n",
    "        collection.insert_many(artist_jsonList[x:len(artist_jsonList)])\n",
    "#         collection.insert_many(artist_jsonList[x:10000+x])\n",
    "#     print(\"END:{} times\".format(x))\n",
    "\n",
    "collection.create_index([('name', ASCENDING)])  \n",
    "collection.create_index([('aliases.name', ASCENDING)])  \n",
    "collection.create_index([('tags.value', ASCENDING)])\n",
    "collection.create_index([('rating.value', ASCENDING)])"
   ]
  },
  {
   "cell_type": "markdown",
   "metadata": {},
   "source": [
    "```Bash\n",
    "show databases\n",
    "use artist\n",
    "db.artist.find({'name':'Queen'})\n",
    "```"
   ]
  },
  {
   "cell_type": "code",
   "execution_count": 8,
   "metadata": {},
   "outputs": [
    {
     "name": "stdout",
     "output_type": "stream",
     "text": [
      "{'_id': ObjectId('5b9e0376e2010e68c0ca9dc3'), 'name': 'Queen', 'area': 'Japan', 'gender': 'Female', 'tags': [{'count': 1, 'value': 'kamen rider w'}, {'count': 1, 'value': 'related-akb48'}], 'sort_name': 'Queen', 'ended': True, 'gid': '420ca290-76c5-41af-999e-564d7c71f1a7', 'type': 'Character', 'id': 701492, 'aliases': [{'name': 'Queen', 'sort_name': 'Queen'}]}\n",
      "{'_id': ObjectId('5b9e0377e2010e68c0cb646f'), 'rating': {'count': 24, 'value': 92}, 'begin': {'date': 27, 'month': 6, 'year': 1970}, 'name': 'Queen', 'area': 'United Kingdom', 'tags': [{'count': 2, 'value': 'hard rock'}, {'count': 1, 'value': '70s'}, {'count': 1, 'value': 'queen family'}, {'count': 1, 'value': '90s'}, {'count': 1, 'value': '80s'}, {'count': 1, 'value': 'glam rock'}, {'count': 4, 'value': 'british'}, {'count': 1, 'value': 'english'}, {'count': 2, 'value': 'uk'}, {'count': 1, 'value': 'pop/rock'}, {'count': 1, 'value': 'pop-rock'}, {'count': 1, 'value': 'britannique'}, {'count': 1, 'value': 'classic pop and rock'}, {'count': 1, 'value': 'queen'}, {'count': 1, 'value': 'united kingdom'}, {'count': 1, 'value': 'langham 1 studio bbc'}, {'count': 1, 'value': 'kind of magic'}, {'count': 1, 'value': 'band'}, {'count': 6, 'value': 'rock'}, {'count': 1, 'value': 'platinum'}], 'sort_name': 'Queen', 'ended': True, 'gid': '0383dadf-2a4e-4d10-a46a-e9e041da8eb3', 'type': 'Group', 'id': 192, 'aliases': [{'name': '女王', 'sort_name': '女王'}]}\n",
      "{'_id': ObjectId('5b9e0379e2010e68c0cd1ec7'), 'ended': True, 'gid': '5eecaf18-02ec-47af-a4f2-7831db373419', 'sort_name': 'Queen', 'id': 992994, 'name': 'Queen'}\n"
     ]
    }
   ],
   "source": [
    "for data in collection.find({'name': 'Queen'}):\n",
    "    print (data)"
   ]
  },
  {
   "cell_type": "markdown",
   "metadata": {},
   "source": [
    "### 66.検索件数の取得\n",
    "MongoDBのインタラクティブシェルを用いて活動場所が「Japan」となっているアーティスト数を求めよ。  \n",
    "メモ:$gt→Greater Than\n",
    "```Bash:JapaneseArtistCount\n",
    "db.artist.find({\"area\":\"Japan\"}).count()\n",
    "22821\n",
    "```\n",
    "\n",
    "### 67. 複数のドキュメントの取得\n",
    "特定の（指定した）別名を持つアーティストを検索せよ．\n",
    "```Bash\n",
    "db.artist.find({\"aliases\":{ $elemMatch :{\"name\":\"Queen\"}}})\n",
    "```"
   ]
  },
  {
   "cell_type": "code",
   "execution_count": 14,
   "metadata": {
    "scrolled": true
   },
   "outputs": [
    {
     "name": "stdout",
     "output_type": "stream",
     "text": [
      "{'_id': ObjectId('5b6bd146e2010e02dab4da9f'), 'name': 'Queen', 'area': 'Japan', 'gender': 'Female', 'tags': [{'count': 1, 'value': 'kamen rider w'}, {'count': 1, 'value': 'related-akb48'}], 'sort_name': 'Queen', 'ended': True, 'gid': '420ca290-76c5-41af-999e-564d7c71f1a7', 'type': 'Character', 'id': 701492, 'aliases': [{'name': 'Queen', 'sort_name': 'Queen'}]}\n"
     ]
    }
   ],
   "source": [
    "for data in collection.find({\"aliases.name\":\"Queen\"}):\n",
    "    print(data)"
   ]
  },
  {
   "cell_type": "markdown",
   "metadata": {},
   "source": [
    "### 68.ソート\n",
    "\"dance\"というタグを付与されたアーティストの中でレーティングの投票数が多いアーティストトップ10を求めよ"
   ]
  },
  {
   "cell_type": "code",
   "execution_count": 20,
   "metadata": {},
   "outputs": [
    {
     "name": "stdout",
     "output_type": "stream",
     "text": [
      "Madonna {'count': 26, 'value': 88}\n",
      "Björk {'count': 23, 'value': 84}\n",
      "The Prodigy {'count': 23, 'value': 90}\n",
      "Rihanna {'count': 15, 'value': 68}\n",
      "Britney Spears {'count': 13, 'value': 83}\n",
      "Maroon 5 {'count': 11, 'value': 60}\n",
      "Adam Lambert {'count': 7, 'value': 100}\n",
      "Fatboy Slim {'count': 7, 'value': 77}\n",
      "Basement Jaxx {'count': 6, 'value': 83}\n",
      "Cornershop {'count': 5, 'value': 68}\n"
     ]
    }
   ],
   "source": [
    "result = collection.find({\"tags.value\":\"dance\"})\n",
    "for data in result.sort('rating.count', DESCENDING)[0:10]:\n",
    "    print(data['name'], data['rating'])"
   ]
  },
  {
   "cell_type": "code",
   "execution_count": null,
   "metadata": {},
   "outputs": [],
   "source": []
  }
 ],
 "metadata": {
  "kernelspec": {
   "display_name": "Python 3",
   "language": "python",
   "name": "python3"
  },
  "language_info": {
   "codemirror_mode": {
    "name": "ipython",
    "version": 3
   },
   "file_extension": ".py",
   "mimetype": "text/x-python",
   "name": "python",
   "nbconvert_exporter": "python",
   "pygments_lexer": "ipython3",
   "version": "3.6.3"
  }
 },
 "nbformat": 4,
 "nbformat_minor": 2
}
