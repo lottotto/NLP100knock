{
 "cells": [
  {
   "cell_type": "markdown",
   "metadata": {},
   "source": [
    "# 第8章: 機械学習\n",
    "本章では，Bo Pang氏とLillian Lee氏が公開しているMovie Review Dataのsentence polarity dataset v1.0を用い，文を肯定的（ポジティブ）もしくは否定的（ネガティブ）に分類するタスク（極性分析）に取り組む．\n",
    "### 70. データの入手・整形\n",
    "文に関する極性分析の正解データを用い、以下の要領で正解データ(sentiment.txt)を作成せよ。\n",
    "1. rt-polarity.posの各行の先頭に\"+1 \"という文字列を追加する（極性ラベル\"+1\"とスペースに続けて肯定的な文の内容が続く）\n",
    "2. rt-polarity.negの各行の先頭に\"-1 \"という文字列を追加する（極性ラベル\"-1\"とスペースに続けて否定的な文の内容が続く）\n",
    "3. 上述1と2の内容を結合（concatenate）し，行をランダムに並び替える\n",
    "\n",
    "sentiment.txtを作成したら，正例（肯定的な文）の数と負例（否定的な文）の数を確認せよ．"
   ]
  },
  {
   "cell_type": "code",
   "execution_count": 1,
   "metadata": {},
   "outputs": [
    {
     "name": "stdout",
     "output_type": "stream",
     "text": [
      "5331 5331\n"
     ]
    }
   ],
   "source": [
    "import random\n",
    "\n",
    "pos_sent = open('./resource/rt-polaritydata/rt-polarity.pos','r',encoding='cp1252')\n",
    "neg_sent = open('./resource/rt-polaritydata/rt-polarity.neg','r',encoding='cp1252')\n",
    "temp_pos_sentList = []\n",
    "temp_neg_sentList = []\n",
    "for pos in pos_sent:\n",
    "    temp_pos_sentList.append(\"+1 \"+pos)\n",
    "for neg in neg_sent:\n",
    "    temp_neg_sentList.append(\"-1 \"+neg)\n",
    "    \n",
    "sentList = temp_pos_sentList + temp_neg_sentList\n",
    "random.shuffle(sentList)\n",
    "\n",
    "with open('./resource/sentiment.txt','w') as ret_file:\n",
    "    ret_file.writelines(sentList)\n",
    "    \n",
    "    \n",
    "pos_count = 0\n",
    "neg_count = 0\n",
    "with open('./resource/sentiment.txt','r') as check_file:\n",
    "    for line in check_file:\n",
    "        if line[0:2] == \"+1\":\n",
    "            pos_count += 1\n",
    "        else:\n",
    "            neg_count += 1\n",
    "print(pos_count, neg_count)"
   ]
  },
  {
   "cell_type": "markdown",
   "metadata": {},
   "source": [
    "### 71. ストップワード\n",
    "英語のストップワードのリスト(ストップリスト)を適当に作成せよ。さらに、引数に与えられた単語(文字列)がストップワードに含まれている場合は真、それ以外は偽を返す関数を実装せよ。さらに、その関数に対するテストを記述せよ。"
   ]
  },
  {
   "cell_type": "code",
   "execution_count": 2,
   "metadata": {},
   "outputs": [
    {
     "data": {
      "image/png": "[encoded data removed]",
      "text/plain": [
       "<matplotlib.figure.Figure at 0x109c75828>"
      ]
     },
     "metadata": {},
     "output_type": "display_data"
    }
   ],
   "source": [
    "from collections import Counter\n",
    "import pandas as pd\n",
    "import matplotlib.pyplot as plt\n",
    "%matplotlib inline\n",
    "\n",
    "file = open('./resource/sentiment.txt','r')\n",
    "sentList = file.readlines()\n",
    "sentList = \" \".join(sentList).split()\n",
    "WordTimesAppear = Counter(sentList).most_common()\n",
    "Word_Df = pd.DataFrame(WordTimesAppear)\n",
    "Word_Df.columns = [\"word\", \"times\"]\n",
    "Word_Df['times'].cumsum().plot()\n",
    "plt.grid(True)\n",
    "plt.show()"
   ]
  },
  {
   "cell_type": "code",
   "execution_count": 3,
   "metadata": {},
   "outputs": [],
   "source": [
    "#150000あたりまでは切っていい"
   ]
  },
  {
   "cell_type": "code",
   "execution_count": 4,
   "metadata": {},
   "outputs": [
    {
     "data": {
      "text/plain": [
       "150220"
      ]
     },
     "execution_count": 4,
     "metadata": {},
     "output_type": "execute_result"
    }
   ],
   "source": [
    "Word_Df['times'].cumsum()[300]"
   ]
  },
  {
   "cell_type": "code",
   "execution_count": 5,
   "metadata": {},
   "outputs": [
    {
     "name": "stdout",
     "output_type": "stream",
     "text": [
      "('.', 'the', ',', 'a', 'and', 'of', '-1', '+1', 'to', 'is', 'in', 'that', 'it', 'as', 'but', 'with', 'film', 'this', 'for', 'its', 'an', 'movie', \"it's\", 'be', 'on', 'you', 'not', 'by', 'about', 'more', 'one', 'like', 'has', 'are', 'at', 'from', 'than', '\"', 'all', '--', 'his', 'have', 'so', 'if', 'or', 'story', 'i', 'too', 'just', 'who', 'into', 'what', 'most', 'out', 'no', 'much', 'even', 'good', 'up', 'will', 'comedy', 'time', 'can', 'some', 'characters', 'only', 'little', 'way', 'their', 'funny', 'make', 'enough', 'been', 'very', 'your', 'never', 'when', 'makes', 'there', 'may', 'which', 'us', 'work', 'best', 'he', 'bad', 'director', \"doesn't\", ')', '?', 'any', '(', 'love', 'would', 'life', 'while', 'they', 'we', ':', 'was', \"there's\", 'movies', 'new', 'well', 'her', 'through', 'could', 'really', 'something', 'how', 'made', 'them', 'does', 'performances', 'own', 'should', 'many', 'drama', \"that's\", 'those', 'plot', 'look', 'films', \"isn't\", 'every', 'see', 'still', 'two', 'nothing', 'people', 'better', 'long', 'without', 'other', 'get', 'off', 'fun', 'being', 'action', 'both', 'great', 'though', 'might', 'big', \"'\", 'also', 'cast', 'another', 'do', 'kind', 'humor', 'first', 'audience', 'between', 'sense', 'such', 'over', 'character', 'ever', \"don't\", ';', 'performance', 'feels', 'few', 'because', 'script', \"film's\", 'here', 'far', 'often', 'seems', 'less', 'thing', 'minutes', 'real', 'feel', 'world', 'picture', 'tale', 'almost', 'thriller', \"can't\", 'down', 'quite', 'documentary', 'interesting', 'yet', '!', 'these', 'entertaining', 'rather', \"you're\", 'screen', 'my', 'end', 'itself', 'seen', 'full', 'watching', 'take', 'hollywood', 'ultimately', 'go', 'hard', 'heart', 'moments', 'de', 'comes', 'romantic', 'despite', 'lot', 'american', 'were', 'me', 'after', 'where', 'before', 'family', 'acting', 'original', 'had', 'old', 'then', 'find', 'right', 'gets', 'worth', 'human', 'same', 'takes', 'come', 'things', 'times', 'dialogue', 'back', 'watch', 'man', 'actors', 'scenes', 'our', 'material', 'compelling', 'young', 'once', 'music', 'years', 'works', 'think', 'seem', 'anyone', 'emotional', 'gives', 'want', 'going', 'know', 'least', 'part', 'say', 'sometimes', 'piece', 'again', 'cinematic', 'entertainment', 'point', \"you'll\", 'give', 'kids', 'pretty', 'subject', 'last', 'keep', 'bit', 'making', 'special', 'together', 'why', 'fascinating', 'cinema', 'dull', 'whole', 'anything', 'fans', 'year', '-', 'moving', 'away', 'since', 'manages', 'need', 'style', 'star', 'laughs', 'show', 'true', 'clever', 'history', 'always', 'experience', 'sweet', 'offers', 'simply', 'high', 'mr', 'direction', 'silly', 'dark', 'instead', 'predictable', 'charm', 'him', 'whose', 'care', 'actually')\n"
     ]
    }
   ],
   "source": [
    "StopWordList = list(zip(*Counter(sentList).most_common()[:313]))[0]\n",
    "print(StopWordList)"
   ]
  },
  {
   "cell_type": "markdown",
   "metadata": {},
   "source": [
    "引数に与えられた単語（文字列）がストップリストに含まれている場合は真  \n",
    "それ以外は偽を返す関数"
   ]
  },
  {
   "cell_type": "code",
   "execution_count": 6,
   "metadata": {},
   "outputs": [],
   "source": [
    "def isStopWord(word):\n",
    "    if word in StopWordList:\n",
    "        return True\n",
    "    else:\n",
    "        return False"
   ]
  },
  {
   "cell_type": "code",
   "execution_count": 7,
   "metadata": {
    "scrolled": true
   },
   "outputs": [
    {
     "data": {
      "text/plain": [
       "array([['simply', 72],\n",
       "       ['high', 72],\n",
       "       ['mr', 72],\n",
       "       ['direction', 72],\n",
       "       ['silly', 71],\n",
       "       ['dark', 71],\n",
       "       ['instead', 71],\n",
       "       ['predictable', 70],\n",
       "       ['charm', 70],\n",
       "       ['him', 70],\n",
       "       ['whose', 70],\n",
       "       ['care', 70],\n",
       "       ['actually', 70]], dtype=object)"
      ]
     },
     "execution_count": 7,
     "metadata": {},
     "output_type": "execute_result"
    }
   ],
   "source": [
    "import numpy as np\n",
    "np.array(Word_Df[Word_Df['word'].apply(isStopWord)][300:320])"
   ]
  },
  {
   "cell_type": "markdown",
   "metadata": {},
   "source": [
    "### 72. 素性抽出\n",
    "極性分析に有用そうな素性を各自で設計し、学習データから素性を抽出せよ。素性としては、レビューからストップワードを除去し、各単語をステミング処理したものが最低限のベースになるであろう。  \n",
    "skilearnのモジュール  \n",
    "CountVectorizer:\n",
    "param\n",
    "- Input filename or file or content\n",
    "- tokenizer callable object, 関数を渡して、処理する？？\n",
    "- stop_words\n",
    "- ngram_range これを増やすと、n_gram単位でベクトル化してくれる  \n",
    "使用例"
   ]
  },
  {
   "cell_type": "code",
   "execution_count": 8,
   "metadata": {
    "scrolled": true
   },
   "outputs": [
    {
     "data": {
      "text/html": [
       "<div>\n",
       "<style scoped>\n",
       "    .dataframe tbody tr th:only-of-type {\n",
       "        vertical-align: middle;\n",
       "    }\n",
       "\n",
       "    .dataframe tbody tr th {\n",
       "        vertical-align: top;\n",
       "    }\n",
       "\n",
       "    .dataframe thead th {\n",
       "        text-align: right;\n",
       "    }\n",
       "</style>\n",
       "<table border=\"1\" class=\"dataframe\">\n",
       "  <thead>\n",
       "    <tr style=\"text-align: right;\">\n",
       "      <th></th>\n",
       "      <th>actual</th>\n",
       "      <th>afternoon</th>\n",
       "      <th>appropri</th>\n",
       "      <th>belong</th>\n",
       "      <th>chateau</th>\n",
       "      <th>clariti</th>\n",
       "      <th>conclud</th>\n",
       "      <th>crisp</th>\n",
       "      <th>dawn</th>\n",
       "      <th>entir</th>\n",
       "      <th>...</th>\n",
       "      <th>nonstop</th>\n",
       "      <th>pace</th>\n",
       "      <th>portrait</th>\n",
       "      <th>rudd</th>\n",
       "      <th>spout</th>\n",
       "      <th>strength</th>\n",
       "      <th>summer</th>\n",
       "      <th>therapy-depend</th>\n",
       "      <th>unfold</th>\n",
       "      <th>unhurri</th>\n",
       "    </tr>\n",
       "  </thead>\n",
       "  <tbody>\n",
       "    <tr>\n",
       "      <th>0</th>\n",
       "      <td>1</td>\n",
       "      <td>1</td>\n",
       "      <td>1</td>\n",
       "      <td>0</td>\n",
       "      <td>0</td>\n",
       "      <td>1</td>\n",
       "      <td>1</td>\n",
       "      <td>1</td>\n",
       "      <td>1</td>\n",
       "      <td>1</td>\n",
       "      <td>...</td>\n",
       "      <td>0</td>\n",
       "      <td>1</td>\n",
       "      <td>0</td>\n",
       "      <td>0</td>\n",
       "      <td>0</td>\n",
       "      <td>1</td>\n",
       "      <td>1</td>\n",
       "      <td>0</td>\n",
       "      <td>1</td>\n",
       "      <td>1</td>\n",
       "    </tr>\n",
       "    <tr>\n",
       "      <th>1</th>\n",
       "      <td>0</td>\n",
       "      <td>0</td>\n",
       "      <td>0</td>\n",
       "      <td>1</td>\n",
       "      <td>1</td>\n",
       "      <td>0</td>\n",
       "      <td>0</td>\n",
       "      <td>0</td>\n",
       "      <td>0</td>\n",
       "      <td>0</td>\n",
       "      <td>...</td>\n",
       "      <td>1</td>\n",
       "      <td>0</td>\n",
       "      <td>1</td>\n",
       "      <td>1</td>\n",
       "      <td>1</td>\n",
       "      <td>0</td>\n",
       "      <td>0</td>\n",
       "      <td>1</td>\n",
       "      <td>0</td>\n",
       "      <td>0</td>\n",
       "    </tr>\n",
       "  </tbody>\n",
       "</table>\n",
       "<p>2 rows × 27 columns</p>\n",
       "</div>"
      ],
      "text/plain": [
       "   actual  afternoon  appropri  belong  chateau  clariti  conclud  crisp  \\\n",
       "0       1          1         1       0        0        1        1      1   \n",
       "1       0          0         0       1        1        0        0      0   \n",
       "\n",
       "   dawn  entir   ...     nonstop  pace  portrait  rudd  spout  strength  \\\n",
       "0     1      1   ...           0     1         0     0      0         1   \n",
       "1     0      0   ...           1     0         1     1      1         0   \n",
       "\n",
       "   summer  therapy-depend  unfold  unhurri  \n",
       "0       1               0       1        1  \n",
       "1       0               1       0        0  \n",
       "\n",
       "[2 rows x 27 columns]"
      ]
     },
     "execution_count": 8,
     "metadata": {},
     "output_type": "execute_result"
    }
   ],
   "source": [
    "from sklearn.feature_extraction.text import CountVectorizer\n",
    "from nltk.stem.porter import PorterStemmer\n",
    "import warnings\n",
    "warnings.filterwarnings('ignore')\n",
    "\n",
    "\n",
    "Stemmer = PorterStemmer()\n",
    "\n",
    "#文を渡してsteming処理を行う関数\n",
    "def token_processing(text):\n",
    "    return [Stemmer.stem(token) for token in text.split()]\n",
    "                 \n",
    "    \n",
    "judge_texts = [\"the film's unhurried pace is actually one of its strengths . entirely appropriately , the tale unfolds like a lazy summer afternoon and concludes with the crisp clarity of a fall dawn . \",\n",
    "       \"the chateau belongs to rudd , whose portrait of a therapy-dependent flakeball spouting french malapropisms . . . is a nonstop hoot . \"]\n",
    "\n",
    "CV = CountVectorizer(tokenizer=token_processing, stop_words=StopWordList)\n",
    "temp_X = CV.fit_transform(judge_texts)\n",
    "Df = pd.DataFrame(temp_X.toarray())\n",
    "Df.columns = CV.get_feature_names()\n",
    "Df"
   ]
  },
  {
   "cell_type": "code",
   "execution_count": null,
   "metadata": {},
   "outputs": [],
   "source": [
    "from sklearn.linear_model import LogisticRegression\n",
    "\n",
    "file = open('./sentiment.txt','r')\n",
    "temp = file.readlines()\n",
    "texts = list(map(lambda x:x[2:], temp))\n",
    "labels = np.array(list(map(lambda x:int(x[0:2]), temp)))\n",
    "CV = CountVectorizer(tokenizer=token_processing, stop_words=StopWordList)\n",
    "LR = LogisticRegression()\n",
    "Vectorized_text = CV.fit_transform(texts).toarray()\n",
    "clf = LR.fit(Vectorized_text, labels)"
   ]
  },
  {
   "cell_type": "code",
   "execution_count": null,
   "metadata": {
    "scrolled": false
   },
   "outputs": [],
   "source": [
    "clf.score(Vectorized_text, labels)"
   ]
  },
  {
   "cell_type": "markdown",
   "metadata": {},
   "source": [
    "### 74. 予測\n",
    "73で学習したロジスティック回帰モデルを用い、与えられた文の極性ラベル(正例なら\"+1\", 負例なら\"-1\")とその予測確率を計算するプログラムを実装せよ"
   ]
  },
  {
   "cell_type": "code",
   "execution_count": null,
   "metadata": {},
   "outputs": [],
   "source": [
    "clf.predict_proba(Vectorized_text)[0:10]"
   ]
  },
  {
   "cell_type": "markdown",
   "metadata": {},
   "source": [
    "### 75.  素性の重み\n",
    "73で学習したロジスティック回帰モデルの中で，重みの高い素性トップ10と，重みの低い素性トップ10を確認せよ．"
   ]
  },
  {
   "cell_type": "code",
   "execution_count": null,
   "metadata": {
    "scrolled": false
   },
   "outputs": [],
   "source": [
    "print(\"GOOD WORD\\n\")\n",
    "for i in np.argsort(clf.coef_[0])[::-1][:10]:\n",
    "    print(\"Word: {}\\t\\t Weight:{}\".format(CV.get_feature_names()[i], clf.coef_[0][i]))\n",
    "    \n",
    "print(\"\\nBAD WORD\\n\")\n",
    "for i in np.argsort(clf.coef_[0])[:10]:\n",
    "    print(\"Word: {}\\t\\t Weight:{}\".format(CV.get_feature_names()[i], clf.coef_[0][i]))"
   ]
  },
  {
   "cell_type": "markdown",
   "metadata": {},
   "source": [
    "### 76. ラベル付け\n",
    "学習データに対し、ロジスティック回帰モデルを適用し、正解のラベル、予測されたラベル、予測確率をタブ区切り形式で出力せよ"
   ]
  },
  {
   "cell_type": "code",
   "execution_count": null,
   "metadata": {},
   "outputs": [],
   "source": [
    "print(Vectorized_text.shape)\n",
    "print(Vectorized_text[0].reshape(1,-1).shape)\n",
    "clf.predict_proba(Vectorized_text[0].reshape(1,-1))[0]"
   ]
  },
  {
   "cell_type": "code",
   "execution_count": null,
   "metadata": {},
   "outputs": [],
   "source": [
    "file = open('./resource/sentiment.txt', 'r').readlines()\n",
    "Ans76List = []\n",
    "for text, Vectorize in zip(file, Vectorized_text):\n",
    "    Correct_Label = int(text[0:2])\n",
    "    Predict_Label = clf.predict(Vectorize.reshape(1,-1))[0]\n",
    "    Predict_Prob = max(clf.predict_proba(Vectorize.reshape(1,-1))[0])\n",
    "    Ans76List.append([Correct_Label, Predict_Label])\n",
    "    print(\"Correct_Label:{}, Predict_Label:{}, Predict_Prob:{:.2f}\".format(Correct_Label, Predict_Label, Predict_Prob))\n",
    "    "
   ]
  },
  {
   "cell_type": "markdown",
   "metadata": {},
   "source": [
    "### 77. 正解率の計測\n",
    "76の出力を受け取り、予測の正解率、正例に関する適合率、再現率、F1スコアを求めるプログラムを作成せよ."
   ]
  },
  {
   "cell_type": "code",
   "execution_count": null,
   "metadata": {
    "scrolled": true
   },
   "outputs": [],
   "source": [
    "#正例に関する適合率\n",
    "TP = 0\n",
    "TN = 0\n",
    "FP = 0\n",
    "FN = 0\n",
    "for i in Ans76List:\n",
    "    if i[0] == 1:\n",
    "        if i[1]==1:\n",
    "            TP += 1\n",
    "        else:\n",
    "            FN += 1\n",
    "    else:\n",
    "        if i[1] == 1:\n",
    "            FP += 1\n",
    "        else:\n",
    "            TN += 1\n",
    "            \n",
    "Correct = (TP+TN)/len(Ans76List)\n",
    "Precision = TP/(TP+FP)\n",
    "Recall = TP/(TP+FN)\n",
    "print(\"正解率:\",Correct)\n",
    "print(\"正例適合率:\", Precision)\n",
    "print(\"再現率:\", Recall)\n",
    "print(\"F1スコア:\", 2*Precision*Recall/(Recall+Precision))"
   ]
  },
  {
   "cell_type": "code",
   "execution_count": null,
   "metadata": {},
   "outputs": [],
   "source": [
    "print(\"{}, {}\\n{}, {}\".format(TN, FP, FN, TP))"
   ]
  },
  {
   "cell_type": "code",
   "execution_count": null,
   "metadata": {
    "scrolled": true
   },
   "outputs": [],
   "source": [
    "from sklearn.metrics import confusion_matrix\n",
    "conf_matrix = confusion_matrix(labels, clf.predict(Vectorized_text))\n",
    "print(conf_matrix)\n",
    "count = sum(sum(conf_matrix))\n",
    "print(\"正解率:\", (conf_matrix[0][0]+conf_matrix[1][1])/count)\n",
    "print(\"正例適合率:\", conf_matrix[0][0]/(conf_matrix[0][0]+conf_matrix[0][1]))\n",
    "print(\"再現率:\", conf_matrix[1][1]/ (conf_matrix[1][1]+conf_matrix[1][0]))"
   ]
  },
  {
   "cell_type": "markdown",
   "metadata": {},
   "source": [
    "|||\n",
    "|-|-|\n",
    "|5080|251|\n",
    "|316|5015|\n",
    "5080が真陽性"
   ]
  },
  {
   "cell_type": "code",
   "execution_count": null,
   "metadata": {},
   "outputs": [],
   "source": [
    "from sklearn.metrics import precision_score, recall_score, f1_score\n",
    "predict_labels = clf.predict(Vectorized_text)\n",
    "print(clf.score(Vectorized_text, labels))\n",
    "print(precision_score(labels, predict_labels))\n",
    "print(recall_score(labels, predict_labels))\n",
    "print(f1_score(labels, predict_labels))"
   ]
  },
  {
   "cell_type": "markdown",
   "metadata": {},
   "source": [
    "### 78. 5分割交差検定\n",
    "76-77の実験では，学習に用いた事例を評価にも用いたため，正当な評価とは言えない．すなわち，分類器が訓練事例を丸暗記する際の性能を評価しており，モデルの汎化性能を測定していない．そこで，5分割交差検定により，極性分類の正解率，適合率，再現率，F1スコアを求めよ．"
   ]
  },
  {
   "cell_type": "code",
   "execution_count": null,
   "metadata": {},
   "outputs": [],
   "source": [
    "from sklearn.model_selection import StratifiedKFold\n",
    "from sklearn.base import clone\n",
    "\n",
    "print(\"precision\\trecall\\tf1\")\n",
    "skfolds = StratifiedKFold(n_splits=5)\n",
    "for train_index, test_index in skfolds.split(Vectorized_text, labels):\n",
    "    temp_clf = LogisticRegression()\n",
    "    Train_Vectorized_text_fold = Vectorized_text[train_index]\n",
    "    Train_Label_fold = labels[train_index]\n",
    "    Test_Vectorized_text_fold = Vectorized_text[test_index]\n",
    "    Test_Label_fold = labels[test_index]\n",
    "    \n",
    "    temp_clf.fit(Train_Vectorized_text_fold, Train_Label_fold)\n",
    "    label_predict = temp_clf.predict(Test_Vectorized_text_fold)\n",
    "    \n",
    "    precision = precision_score(Test_Label_fold, label_predict)\n",
    "    recall = recall_score(Test_Label_fold, label_predict)\n",
    "    f1 = f1_score(Test_Label_fold, label_predict)\n",
    "    \n",
    "    print(\"{:.2f}\\t\\t{:.2f}\\t{:.2f}\".format(precision, recall, f1))\n",
    "    "
   ]
  },
  {
   "cell_type": "markdown",
   "metadata": {},
   "source": [
    "### 79. 適合率-再現率グラフの描画\n",
    "ロジスティック回帰モデルの分類の閾値を変化させることで、適合率-再現率を描画せよ"
   ]
  },
  {
   "cell_type": "code",
   "execution_count": null,
   "metadata": {},
   "outputs": [],
   "source": [
    "from sklearn.metrics import precision_recall_curve\n",
    "from sklearn.model_selection import cross_val_predict\n",
    "\n",
    "y_prob = clf.predict_proba(Vectorized_text)\n",
    "# print(y_prob[:,1:2])\n",
    "# print(labels[0:3])\n",
    "p, r, t = precision_recall_curve(labels, y_prob[:, 1:2])\n"
   ]
  },
  {
   "cell_type": "code",
   "execution_count": null,
   "metadata": {
    "scrolled": false
   },
   "outputs": [],
   "source": [
    "df = pd.DataFrame(data={\"precision\": p, \"recall\": r}) \n",
    "df.plot(x=\"precision\",y=\"recall\")\n",
    "plt.grid(True)\n",
    "plt.show()"
   ]
  },
  {
   "cell_type": "code",
   "execution_count": null,
   "metadata": {},
   "outputs": [],
   "source": [
    "y_prob[:, 1:2]"
   ]
  },
  {
   "cell_type": "code",
   "execution_count": null,
   "metadata": {},
   "outputs": [],
   "source": [
    "labels"
   ]
  },
  {
   "cell_type": "code",
   "execution_count": null,
   "metadata": {},
   "outputs": [],
   "source": [
    "df.plot()\n",
    "plt.show()"
   ]
  },
  {
   "cell_type": "code",
   "execution_count": null,
   "metadata": {},
   "outputs": [],
   "source": []
  }
 ],
 "metadata": {
  "kernelspec": {
   "display_name": "Python 3",
   "language": "python",
   "name": "python3"
  },
  "language_info": {
   "codemirror_mode": {
    "name": "ipython",
    "version": 3
   },
   "file_extension": ".py",
   "mimetype": "text/x-python",
   "name": "python",
   "nbconvert_exporter": "python",
   "pygments_lexer": "ipython3",
   "version": "3.6.3"
  }
 },
 "nbformat": 4,
 "nbformat_minor": 2
}
