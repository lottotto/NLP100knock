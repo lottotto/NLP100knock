{
 "cells": [
  {
   "cell_type": "markdown",
   "metadata": {},
   "source": [
    "# 第1章:準備運動\n",
    "### 0.0 文字列の逆順\n",
    "文字列\"stressed\"の文字を逆に（末尾から先頭に向かって）並べた文字列を得よ．"
   ]
  },
  {
   "cell_type": "code",
   "execution_count": 13,
   "metadata": {},
   "outputs": [
    {
     "name": "stdout",
     "output_type": "stream",
     "text": [
      "desserts\n"
     ]
    }
   ],
   "source": [
    "src = \"stressed\"\n",
    "print(src[::-1])"
   ]
  },
  {
   "cell_type": "markdown",
   "metadata": {},
   "source": [
    "### 0.1 「パタトクカシーー」\n",
    "「パタトクカシーー」という文字列の1,3,5,7文字目を取り出して連結した文字列を得よ．"
   ]
  },
  {
   "cell_type": "code",
   "execution_count": 2,
   "metadata": {},
   "outputs": [
    {
     "name": "stdout",
     "output_type": "stream",
     "text": [
      "タクシー\n"
     ]
    }
   ],
   "source": [
    "src = \"パタトクカシーー\"\n",
    "print(src[1::2])"
   ]
  },
  {
   "cell_type": "markdown",
   "metadata": {},
   "source": [
    "### 0.2「パトカー」＋「タクシー」＝「パタトクカシーー」\n",
    "「パトカー」＋「タクシー」の文字を先頭から交互に連結して文字列「パタトクカシーー」を得よ．"
   ]
  },
  {
   "cell_type": "code",
   "execution_count": 15,
   "metadata": {},
   "outputs": [
    {
     "name": "stdout",
     "output_type": "stream",
     "text": [
      "パタトクカシーー\n"
     ]
    }
   ],
   "source": [
    "src1 = \"パトカー\"\n",
    "src2 = \"タクシー\"\n",
    "ret = \"\"\n",
    "for i in range(4):\n",
    "    ret += src1[i]+src2[i]\n",
    "\n",
    "print(ret)"
   ]
  },
  {
   "cell_type": "markdown",
   "metadata": {},
   "source": [
    "### 0.3 円周率\n",
    "\"Now I need a drink, alcoholic of course, after the heavy lectures involving quantum mechanics.\"という文を単語に分解し，各単語の（アルファベットの）文字数を先頭から出現順に並べたリストを作成せよ．"
   ]
  },
  {
   "cell_type": "code",
   "execution_count": 10,
   "metadata": {},
   "outputs": [
    {
     "name": "stdout",
     "output_type": "stream",
     "text": [
      "[3, 1, 4, 1, 5, 9, 2, 6, 5, 3, 5, 8, 9, 7, 9]\n"
     ]
    }
   ],
   "source": [
    "src = \"Now I need a drink, alcoholic of course, after the heavy lectures involving quantum mechanics.\"\n",
    "src = src.replace(\",\", \"\")\n",
    "src = src.replace(\".\", \"\")\n",
    "ret = []\n",
    "for word in src.split():\n",
    "    ret.append(len(word))\n",
    "\n",
    "print(ret)"
   ]
  },
  {
   "cell_type": "markdown",
   "metadata": {},
   "source": [
    "### 0.4  元素記号\n",
    "\"Hi He Lied Because Boron Could Not Oxidize Fluorine. New Nations Might Also Sign Peace Security Clause. Arthur King Can.\"という文を単語に分解し，1, 5, 6, 7, 8, 9, 15, 16, 19番目の単語は先頭の1文字，それ以外の単語は先頭に2文字を取り出し，取り出した文字列から単語の位置（先頭から何番目の単語か）への連想配列（辞書型もしくはマップ型）を作成せよ．"
   ]
  },
  {
   "cell_type": "code",
   "execution_count": 16,
   "metadata": {},
   "outputs": [
    {
     "name": "stdout",
     "output_type": "stream",
     "text": [
      "{1: 'H', 2: 'He', 3: 'Li', 4: 'Be', 5: 'B', 6: 'C', 7: 'N', 8: 'O', 9: 'F', 10: 'Ne', 11: 'Na', 12: 'Mi', 13: 'Al', 14: 'Si', 15: 'P', 16: 'S', 17: 'Cl', 18: 'Ar', 19: 'K', 20: 'Ca'}\n"
     ]
    }
   ],
   "source": [
    "src = \"Hi He Lied Because Boron Could Not Oxidize Fluorine. \"\\\n",
    "      \"New Nations Might Also Sign Peace Security Clause. Arthur King Can.\"\n",
    "src = src.replace(\".\",\"\")\n",
    "List = src.split()\n",
    "flags = [1,5,6,7,8,9,15,16,19]\n",
    "ret = {}\n",
    "for i in range(len(List)):\n",
    "    if i+1 in flags:\n",
    "        ret[i+1] = List[i][0]\n",
    "    else:\n",
    "        ret[i+1] = List[i][0:2]\n",
    "print(ret)"
   ]
  },
  {
   "cell_type": "markdown",
   "metadata": {},
   "source": [
    "### 0.5 n-gram\n",
    "与えられたシーケンス（文字列やリストなど）からn-gramを作る関数を作成せよ．この関数を用い，\"I am an NLPer\"という文から単語bi-gram，文字bi-gramを得よ．"
   ]
  },
  {
   "cell_type": "code",
   "execution_count": 17,
   "metadata": {},
   "outputs": [
    {
     "name": "stdout",
     "output_type": "stream",
     "text": [
      "['I am', 'am an', 'an NLPer']\n",
      "['Ia', 'am', 'ma', 'an', 'nN', 'NL', 'LP', 'Pe', 'er']\n"
     ]
    }
   ],
   "source": [
    "def n_gram(n,type,src_str):\n",
    "    if(type =='word'):\n",
    "        #単語に分割\n",
    "        src_str = src_str.replace(\".\",\"\")\n",
    "        src_str = src_str.replace(\",\",\"\")\n",
    "        List = src_str.split()\n",
    "        ret = []\n",
    "        for i in range(len(List)-1):\n",
    "            ret.append(List[i] + \" \" + List[i+1])\n",
    "        return ret\n",
    "        \n",
    "        \n",
    "    elif(type =='char'):\n",
    "        src_str = src_str.replace(\".\",\"\")\n",
    "        src_str = src_str.replace(\",\",\"\")\n",
    "        src_str = src_str.replace(\" \",\"\")\n",
    "        ret = []\n",
    "        for i in range(len(src_str)-1):\n",
    "            ret.append(src_str[i] + src_str[i+1])\n",
    "        return ret\n",
    "print(n_gram(2, \"word\", \"I am an NLPer\"))\n",
    "print(n_gram(2, \"char\", \"I am an NLPer\"))\n"
   ]
  },
  {
   "cell_type": "markdown",
   "metadata": {},
   "source": [
    "### 0.6 集合\n",
    "\"paraparaparadise\"と\"paragraph\"に含まれる文字bi-gramの集合を，それぞれ, XとYとして求め，XとYの和集合，積集合，差集合を求めよ．さらに，'se'というbi-gramがXおよびYに含まれるかどうかを調べよ．"
   ]
  },
  {
   "cell_type": "code",
   "execution_count": 18,
   "metadata": {},
   "outputs": [
    {
     "name": "stdout",
     "output_type": "stream",
     "text": [
      "和集合: {'ad', 'ph', 'pa', 'ra', 'is', 'ap', 'ag', 'gr', 'se', 'di', 'ar'}\n",
      "積集合: {'ra', 'ap', 'ar', 'pa'}\n",
      "差集合: {'se', 'ad', 'is', 'di'}\n",
      "se in X_bigram\n"
     ]
    }
   ],
   "source": [
    "X_char = \"paraparaparadise\"\n",
    "Y_char = \"paragraph\"\n",
    "X_bigram = set(n_gram(2, \"char\", X_char))\n",
    "Y_bigram = set(n_gram(2, \"char\", Y_char))\n",
    "print(\"和集合:\", X_bigram | Y_bigram)\n",
    "print(\"積集合:\", X_bigram & Y_bigram)\n",
    "print(\"差集合:\", X_bigram - Y_bigram)\n",
    "\n",
    "if \"se\" in X_bigram :\n",
    "    print(\"se in X_bigram\")\n",
    "if \"se\" in Y_bigram :\n",
    "    print(\"se in Y_bigram\")"
   ]
  },
  {
   "cell_type": "markdown",
   "metadata": {},
   "source": [
    "### 0.7 テンプレートによる文生成\n",
    "引数x, y, zを受け取り「x時のyはz」という文字列を返す関数を実装せよ．さらに，x=12, y=\"気温\", z=22.4として，実行結果を確認せよ．"
   ]
  },
  {
   "cell_type": "code",
   "execution_count": 32,
   "metadata": {},
   "outputs": [
    {
     "data": {
      "text/plain": [
       "'12時の気温は22.4'"
      ]
     },
     "execution_count": 32,
     "metadata": {},
     "output_type": "execute_result"
    }
   ],
   "source": [
    "def makeTemplate(x,y,z):\n",
    "    return str(x)+\"時の\"+str(y)+\"は\"+str(z)\n",
    "makeTemplate(12,\"気温\",22.4) "
   ]
  },
  {
   "cell_type": "markdown",
   "metadata": {},
   "source": [
    "### 0.8 暗号文\n",
    "与えられた文字列の各文字を，以下の仕様で変換する関数cipherを実装せよ．\n",
    "\n",
    "・英小文字ならば(219 - 文字コード)の文字に置換  \n",
    "・その他の文字はそのまま出力  \n",
    "この関数を用い，英語のメッセージを暗号化・復号化せよ．"
   ]
  },
  {
   "cell_type": "code",
   "execution_count": 41,
   "metadata": {},
   "outputs": [
    {
     "name": "stdout",
     "output_type": "stream",
     "text": [
      "I zn zm NLPvi\n",
      "I am an NLPer\n"
     ]
    }
   ],
   "source": [
    "def cipher(src_str):\n",
    "    ret =\"\"\n",
    "    for s in src_str:\n",
    "        #小文字判定\n",
    "        if(ord(s) >=97 and ord(s) <= 122):\n",
    "            ret += chr(219-ord(s))\n",
    "        else:\n",
    "            ret += s\n",
    "    return ret\n",
    "\n",
    "print(cipher(\"I am an NLPer\"))\n",
    "print(cipher(\"I zn zm NLPvi\"))"
   ]
  },
  {
   "cell_type": "markdown",
   "metadata": {},
   "source": [
    "### 0.9 Typoglycemia\n",
    "スペースで区切られた単語列に対して，各単語の先頭と末尾の文字は残し，それ以外の文字の順序をランダムに並び替えるプログラムを作成せよ．ただし，長さが４以下の単語は並び替えないこととする．適当な英語の文（例えば\"I couldn't believe that I could actually understand what I was reading : the phenomenal power of the human mind .\"）を与え，その実行結果を確認せよ."
   ]
  },
  {
   "cell_type": "code",
   "execution_count": 19,
   "metadata": {},
   "outputs": [
    {
     "name": "stdout",
     "output_type": "stream",
     "text": [
      "I cnluo'dt bevliee that I cuold alacutly uenrdatnsd what I was rinadeg : the phnaemnoel poewr of the hmaun mind .\n"
     ]
    }
   ],
   "source": [
    "import random\n",
    "src = \"I couldn't believe that I could actually understand what I was reading : the phenomenal power of the human mind .\"\n",
    "\n",
    "random.seed(0)\n",
    "ret = []\n",
    "for word in src.split():\n",
    "    if(len(word) > 4):\n",
    "        shuffle = list(word[1:len(word)-1])\n",
    "        random.shuffle(shuffle)\n",
    "        #print(shuffle)\n",
    "        #print(random.shuffle(list(word[1:len(word)-1])))\n",
    "        temp = \"\".join(shuffle)\n",
    "        ret.append(word[0]+temp+word[-1])\n",
    "    else:\n",
    "        ret.append(word)\n",
    "print(\" \".join(ret))"
   ]
  },
  {
   "cell_type": "code",
   "execution_count": null,
   "metadata": {},
   "outputs": [],
   "source": []
  }
 ],
 "metadata": {
  "kernelspec": {
   "display_name": "Python 3",
   "language": "python",
   "name": "python3"
  },
  "language_info": {
   "codemirror_mode": {
    "name": "ipython",
    "version": 3
   },
   "file_extension": ".py",
   "mimetype": "text/x-python",
   "name": "python",
   "nbconvert_exporter": "python",
   "pygments_lexer": "ipython3",
   "version": "3.6.3"
  }
 },
 "nbformat": 4,
 "nbformat_minor": 2
}
